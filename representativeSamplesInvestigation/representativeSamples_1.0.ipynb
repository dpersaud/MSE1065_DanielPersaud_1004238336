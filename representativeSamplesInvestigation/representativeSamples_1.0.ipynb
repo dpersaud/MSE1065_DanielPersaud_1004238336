{
 "cells": [
  {
   "cell_type": "markdown",
   "metadata": {},
   "source": [
    "<h1 align='center'>\n",
    "Representative Samples Investigation\n",
    "</h1>\n",
    "\n",
    "<h2 align='center'>\n",
    "Lab 3 - Selecting Materials Dataset\n",
    "</h2>\n",
    "\n",
    "<h3 align='center'>\n",
    "Daniel Persaud\n",
    "\n",
    "October 2nd, 2022\n",
    "</h3>"
   ]
  },
  {
   "cell_type": "markdown",
   "metadata": {},
   "source": [
    "The dataset I will be using for my project this semster is the Matbench v0.1 dataset (adaped from the Materials Project dataset) which contains the energy of formation for the structure of >100k materials as calcualted by DFT. \n",
    "- I found the dataset on matminer - https://hackingmaterials.lbl.gov/matminer/dataset_summary.html - DOI: 10.1063/1.4812323\n",
    "\n",
    "This project is being developed with Kangming Li - a postdoc in my group who was able to provide me with the featurized dataset. The dataset as provided by matbench contains only 2 columns, as shown in ____, the e_form column, which is the target variable and the structure column, which contains pymatgen structure's of the materials.\n",
    "- Using these structures, pymatgen and matminer were used to generate the features (including the magpie features).\n",
    "\n",
    "The goal of my project is to find / investiage the minimum number necessary to train a model while it still being a good (predictive and generalizable) model. This will be my own work (incolaboration with my groupmembers) so I will not be reproducing another work."
   ]
  },
  {
   "cell_type": "code",
   "execution_count": 8,
   "metadata": {},
   "outputs": [],
   "source": [
    "import pandas as pd\n",
    "import numpy as np\n",
    "import ast\n",
    "import re\n",
    "\n",
    "from matminer.datasets import load_dataset\n",
    "\n",
    "from pymatgen.core.structure import Structure\n",
    "from pymatgen.core.composition import Composition\n",
    "\n",
    "from matminer.featurizers.conversions import StructureToComposition"
   ]
  },
  {
   "cell_type": "markdown",
   "metadata": {},
   "source": [
    "Below is the code I used to import the dataset from matminer and clean it, such that it can be exported to a .csv in a way that it can be moved and opened fast and easily with a few lines of code (below)"
   ]
  },
  {
   "cell_type": "code",
   "execution_count": 151,
   "metadata": {},
   "outputs": [
    {
     "data": {
      "text/plain": [
       "'dfMPeForm = load_dataset(\\'matbench_mp_e_form\\')                                                  # load dataset from matminer\\n\\n# use matminer to get pymatgen.core.composition object from structure for featurizing\\ndfMPeForm = StructureToComposition().featurize_dataframe(dfMPeForm, \"structure\")\\n\\n# use pymatgen built in function to turn pymatgen.core.structure object into a dictionary so it can be save to .csv\\ndfMPeForm[\\'structure_as_dict\\'] = dfMPeForm[\\'structure\\'].apply(lambda x : Structure.as_dict(x))\\n\\n# use pymatgen built in function to turn pymatgen.core.composition object into a dictionary so it can be save to .csv\\ndfMPeForm[\\'composition_as_dict\\'] = dfMPeForm[\\'composition\\'].apply(lambda x : Composition.as_dict(x))\\n\\n# use regular expression to remove all the other nonsense and just leave the dictionary (what is between the {})\\ndfMPeForm[\\'composition_as_dict\\'] =  [re.search(r\"\\\\{.*?\\\\}\",str(x)).group(0) for x in dfMPeForm[\\'composition_as_dict\\']]\\n\\ndfMPeForm.to_csv(\\'matbench_mp_e_form_moveable.csv\\')'"
      ]
     },
     "execution_count": 151,
     "metadata": {},
     "output_type": "execute_result"
    }
   ],
   "source": [
    "'''dfMPeForm = load_dataset('matbench_mp_e_form')                                                  # load dataset from matminer\n",
    "\n",
    "# use matminer to get pymatgen.core.composition object from structure for featurizing\n",
    "dfMPeForm = StructureToComposition().featurize_dataframe(dfMPeForm, \"structure\")\n",
    "\n",
    "# use pymatgen built in function to turn pymatgen.core.structure object into a dictionary so it can be save to .csv\n",
    "dfMPeForm['structure_as_dict'] = dfMPeForm['structure'].apply(lambda x : Structure.as_dict(x))\n",
    "\n",
    "# use pymatgen built in function to turn pymatgen.core.composition object into a dictionary so it can be save to .csv\n",
    "dfMPeForm['composition_as_dict'] = dfMPeForm['composition'].apply(lambda x : Composition.as_dict(x))\n",
    "\n",
    "# use regular expression to remove all the other nonsense and just leave the dictionary (what is between the {})\n",
    "dfMPeForm['composition_as_dict'] =  [re.search(r\"\\{.*?\\}\",str(x)).group(0) for x in dfMPeForm['composition_as_dict']]\n",
    "\n",
    "dfMPeForm.to_csv('matbench_mp_e_form_moveable.csv')'''"
   ]
  },
  {
   "cell_type": "markdown",
   "metadata": {},
   "source": [
    "Both pymatgen.core.structure and pymatgen.core.composition are necessary for featurizing so they were saved to dictionaries in the last step so they could be moved in csv files and now the are imported and converted back to their respective object forms for featurization in the next step"
   ]
  },
  {
   "cell_type": "code",
   "execution_count": 9,
   "metadata": {},
   "outputs": [
    {
     "data": {
      "text/html": [
       "<div>\n",
       "<style scoped>\n",
       "    .dataframe tbody tr th:only-of-type {\n",
       "        vertical-align: middle;\n",
       "    }\n",
       "\n",
       "    .dataframe tbody tr th {\n",
       "        vertical-align: top;\n",
       "    }\n",
       "\n",
       "    .dataframe thead th {\n",
       "        text-align: right;\n",
       "    }\n",
       "</style>\n",
       "<table border=\"1\" class=\"dataframe\">\n",
       "  <thead>\n",
       "    <tr style=\"text-align: right;\">\n",
       "      <th></th>\n",
       "      <th>structure_as_dict</th>\n",
       "      <th>composition_as_dict</th>\n",
       "      <th>structure</th>\n",
       "      <th>composition</th>\n",
       "    </tr>\n",
       "  </thead>\n",
       "  <tbody>\n",
       "    <tr>\n",
       "      <th>0</th>\n",
       "      <td>{'@module': 'pymatgen.core.structure', '@class...</td>\n",
       "      <td>{'Pt': 1.0, 'C': 1.0}</td>\n",
       "      <td>[[0. 0. 0.] Pt, [1.40802527 1.40802527 1.40802...</td>\n",
       "      <td>(Pt, C)</td>\n",
       "    </tr>\n",
       "    <tr>\n",
       "      <th>1</th>\n",
       "      <td>{'@module': 'pymatgen.core.structure', '@class...</td>\n",
       "      <td>{'Cd': 1.0, 'C': 1.0}</td>\n",
       "      <td>[[0. 0. 0.] Cd, [-3.88999977 -3.88999977 -3.88...</td>\n",
       "      <td>(Cd, C)</td>\n",
       "    </tr>\n",
       "    <tr>\n",
       "      <th>2</th>\n",
       "      <td>{'@module': 'pymatgen.core.structure', '@class...</td>\n",
       "      <td>{'Cd': 1.0, 'C': 1.0}</td>\n",
       "      <td>[[0. 0. 0.] Cd, [ 2.4281169  2.4281169 -2.4281...</td>\n",
       "      <td>(Cd, C)</td>\n",
       "    </tr>\n",
       "    <tr>\n",
       "      <th>3</th>\n",
       "      <td>{'@module': 'pymatgen.core.structure', '@class...</td>\n",
       "      <td>{'Au': 1.0, 'N': 1.0}</td>\n",
       "      <td>[[0. 0. 0.] Au, [ 3.73685716  3.73685716 -3.73...</td>\n",
       "      <td>(Au, N)</td>\n",
       "    </tr>\n",
       "    <tr>\n",
       "      <th>4</th>\n",
       "      <td>{'@module': 'pymatgen.core.structure', '@class...</td>\n",
       "      <td>{'Ag': 1.0, 'C': 1.0}</td>\n",
       "      <td>[[0. 0. 0.] Ag, [-2.33387948 -2.33387948 -2.33...</td>\n",
       "      <td>(Ag, C)</td>\n",
       "    </tr>\n",
       "    <tr>\n",
       "      <th>...</th>\n",
       "      <td>...</td>\n",
       "      <td>...</td>\n",
       "      <td>...</td>\n",
       "      <td>...</td>\n",
       "    </tr>\n",
       "    <tr>\n",
       "      <th>132747</th>\n",
       "      <td>{'@module': 'pymatgen.core.structure', '@class...</td>\n",
       "      <td>{'Sc': 2.0, 'O': 2.0, 'F': 2.0}</td>\n",
       "      <td>[[0.90688012 0.90688012 3.65081586] Sc, [2.720...</td>\n",
       "      <td>(Sc, O, F)</td>\n",
       "    </tr>\n",
       "    <tr>\n",
       "      <th>132748</th>\n",
       "      <td>{'@module': 'pymatgen.core.structure', '@class...</td>\n",
       "      <td>{'Ce': 4.0, 'Gd': 1.0, 'O': 9.0}</td>\n",
       "      <td>[[ 0.07547367  2.75237591 -8.16999325] Ce, [ 0...</td>\n",
       "      <td>(Ce, Gd, O)</td>\n",
       "    </tr>\n",
       "    <tr>\n",
       "      <th>132749</th>\n",
       "      <td>{'@module': 'pymatgen.core.structure', '@class...</td>\n",
       "      <td>{'Ca': 1.0, 'Ti': 2.0, 'F': 10.0}</td>\n",
       "      <td>[[3.04379721 2.81477641 7.80253026] Ca, [6.363...</td>\n",
       "      <td>(Ca, Ti, F)</td>\n",
       "    </tr>\n",
       "    <tr>\n",
       "      <th>132750</th>\n",
       "      <td>{'@module': 'pymatgen.core.structure', '@class...</td>\n",
       "      <td>{'Ca': 1.0, 'Ti': 1.0, 'F': 6.0}</td>\n",
       "      <td>[[3.29589261 2.29147874 5.98314495] Ca, [0. 0....</td>\n",
       "      <td>(Ca, Ti, F)</td>\n",
       "    </tr>\n",
       "    <tr>\n",
       "      <th>132751</th>\n",
       "      <td>{'@module': 'pymatgen.core.structure', '@class...</td>\n",
       "      <td>{'Ca': 4.0, 'Ti': 4.0, 'F': 20.0}</td>\n",
       "      <td>[[0.671257   5.45652618 0.19875358] Ca, [0.970...</td>\n",
       "      <td>(Ca, Ti, F)</td>\n",
       "    </tr>\n",
       "  </tbody>\n",
       "</table>\n",
       "<p>132752 rows × 4 columns</p>\n",
       "</div>"
      ],
      "text/plain": [
       "                                        structure_as_dict  \\\n",
       "0       {'@module': 'pymatgen.core.structure', '@class...   \n",
       "1       {'@module': 'pymatgen.core.structure', '@class...   \n",
       "2       {'@module': 'pymatgen.core.structure', '@class...   \n",
       "3       {'@module': 'pymatgen.core.structure', '@class...   \n",
       "4       {'@module': 'pymatgen.core.structure', '@class...   \n",
       "...                                                   ...   \n",
       "132747  {'@module': 'pymatgen.core.structure', '@class...   \n",
       "132748  {'@module': 'pymatgen.core.structure', '@class...   \n",
       "132749  {'@module': 'pymatgen.core.structure', '@class...   \n",
       "132750  {'@module': 'pymatgen.core.structure', '@class...   \n",
       "132751  {'@module': 'pymatgen.core.structure', '@class...   \n",
       "\n",
       "                      composition_as_dict  \\\n",
       "0                   {'Pt': 1.0, 'C': 1.0}   \n",
       "1                   {'Cd': 1.0, 'C': 1.0}   \n",
       "2                   {'Cd': 1.0, 'C': 1.0}   \n",
       "3                   {'Au': 1.0, 'N': 1.0}   \n",
       "4                   {'Ag': 1.0, 'C': 1.0}   \n",
       "...                                   ...   \n",
       "132747    {'Sc': 2.0, 'O': 2.0, 'F': 2.0}   \n",
       "132748   {'Ce': 4.0, 'Gd': 1.0, 'O': 9.0}   \n",
       "132749  {'Ca': 1.0, 'Ti': 2.0, 'F': 10.0}   \n",
       "132750   {'Ca': 1.0, 'Ti': 1.0, 'F': 6.0}   \n",
       "132751  {'Ca': 4.0, 'Ti': 4.0, 'F': 20.0}   \n",
       "\n",
       "                                                structure  composition  \n",
       "0       [[0. 0. 0.] Pt, [1.40802527 1.40802527 1.40802...      (Pt, C)  \n",
       "1       [[0. 0. 0.] Cd, [-3.88999977 -3.88999977 -3.88...      (Cd, C)  \n",
       "2       [[0. 0. 0.] Cd, [ 2.4281169  2.4281169 -2.4281...      (Cd, C)  \n",
       "3       [[0. 0. 0.] Au, [ 3.73685716  3.73685716 -3.73...      (Au, N)  \n",
       "4       [[0. 0. 0.] Ag, [-2.33387948 -2.33387948 -2.33...      (Ag, C)  \n",
       "...                                                   ...          ...  \n",
       "132747  [[0.90688012 0.90688012 3.65081586] Sc, [2.720...   (Sc, O, F)  \n",
       "132748  [[ 0.07547367  2.75237591 -8.16999325] Ce, [ 0...  (Ce, Gd, O)  \n",
       "132749  [[3.04379721 2.81477641 7.80253026] Ca, [6.363...  (Ca, Ti, F)  \n",
       "132750  [[3.29589261 2.29147874 5.98314495] Ca, [0. 0....  (Ca, Ti, F)  \n",
       "132751  [[0.671257   5.45652618 0.19875358] Ca, [0.970...  (Ca, Ti, F)  \n",
       "\n",
       "[132752 rows x 4 columns]"
      ]
     },
     "execution_count": 9,
     "metadata": {},
     "output_type": "execute_result"
    }
   ],
   "source": [
    "dfMPeForm = pd.read_csv('matbench_mp_e_form_moveable.csv',index_col=0)  # read dataset from .csv\n",
    "dfMPeForm = dfMPeForm.iloc[:,1:]                                        # remove first column - just has index from export\n",
    "# make a new column to hold the pymatgen.core.structure objects as they get read from the dictionary column\n",
    "dfMPeForm['structure'] = dfMPeForm['structure_as_dict'].apply(lambda x : Structure.from_dict(ast.literal_eval(x)))\n",
    "# make a new column to hold the pymatgen.core.composition objects as they get read from the dictionary column\n",
    "dfMPeForm['composition'] = dfMPeForm['composition_as_dict'].apply(lambda x : Composition.from_dict(ast.literal_eval(x)))\n",
    "dfMPeForm"
   ]
  },
  {
   "cell_type": "markdown",
   "metadata": {},
   "source": [
    "Thankfully, Kangming was able to use his extensive compute to featurize the dataset so instead of running matminer for probably +2 days, I can just import the featurized dataset he sent.\n",
    "\n",
    "Since we have structural data from the original dataset, we are able to get both compositional and structural features from matminer:\n",
    "\n",
    "- Compositional: Stoichiometry, ElementProperty(magpie), ValenceOrbital, IonProperty\n",
    "- Structural: SiteStatsFingerprint(CoordinationNumber_ward-prb-2017), SiteStatsFingerprint(LocalPropertyDifference_ward-prb-2017), StructuralHeterogeneity, MaximumPackingEfficiency, ChemicalOrdering"
   ]
  },
  {
   "cell_type": "code",
   "execution_count": 10,
   "metadata": {},
   "outputs": [],
   "source": [
    "dfMPeForm_wFeatures = pd.read_csv('e_form.csv',index_col=0)                     # read featurized dataset from .csv\n",
    "dfTarget = dfMPeForm_wFeatures['e_form']                                        # seperate targets\n",
    "cols_all = dfMPeForm_wFeatures.columns[-273:]                                   # column names of all the 273 features\n",
    "dfFeatures = dfMPeForm_wFeatures[cols_all]                                      # seperate features"
   ]
  }
 ],
 "metadata": {
  "kernelspec": {
   "display_name": "Python 3.9.12 ('initStable')",
   "language": "python",
   "name": "python3"
  },
  "language_info": {
   "codemirror_mode": {
    "name": "ipython",
    "version": 3
   },
   "file_extension": ".py",
   "mimetype": "text/x-python",
   "name": "python",
   "nbconvert_exporter": "python",
   "pygments_lexer": "ipython3",
   "version": "3.9.12"
  },
  "orig_nbformat": 4,
  "vscode": {
   "interpreter": {
    "hash": "4e324665621a6e561cc1b863ea22c3639e915182fa9af9bad65c46c843f57e3d"
   }
  }
 },
 "nbformat": 4,
 "nbformat_minor": 2
}
