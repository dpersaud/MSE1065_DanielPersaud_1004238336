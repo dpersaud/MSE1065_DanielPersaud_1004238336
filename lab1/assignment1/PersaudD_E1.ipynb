{
 "cells": [
  {
   "cell_type": "markdown",
   "id": "67e379c4",
   "metadata": {},
   "source": [
    "<h1 align='center'>\n",
    "Lab 1 - Python Basics\n",
    "</h1>\n",
    "\n",
    "<h3 align='center'>\n",
    "Daniel Persaud\n",
    "\n",
    "September 18th, 2022\n",
    "</h3>"
   ]
  },
  {
   "cell_type": "markdown",
   "id": "20254872",
   "metadata": {},
   "source": [
    "Import libraries necesary for this work"
   ]
  },
  {
   "cell_type": "code",
   "execution_count": 1,
   "id": "c93c8189",
   "metadata": {},
   "outputs": [],
   "source": [
    "import pandas as pd\n",
    "import random\n",
    "import re\n",
    "\n",
    "from mendeleev.fetch import fetch_table"
   ]
  },
  {
   "cell_type": "markdown",
   "id": "ab381c08",
   "metadata": {},
   "source": [
    "### <span style=\"color: red\"> Task 1:</span> The text file you downloaded earlier ('E1_T1.csv') contains ten words. Read the words into a list and use a \"for loop\" to print out each word. Also print the words as a full sentence (i.e., a single string), as well as the data type of the sentence."
   ]
  },
  {
   "cell_type": "markdown",
   "id": "8dd56675",
   "metadata": {},
   "source": [
    "### <span style=\"color: blue\"> Solution:</span>"
   ]
  },
  {
   "cell_type": "code",
   "execution_count": 2,
   "id": "fced5425",
   "metadata": {},
   "outputs": [
    {
     "name": "stdout",
     "output_type": "stream",
     "text": [
      "This\n",
      "task\n",
      "is\n",
      "too\n",
      "simple\n",
      ",\n",
      "I\n",
      "want\n",
      "more\n",
      "challenges\n",
      "This task is too simple , I want more challenges \n",
      "<class 'str'>\n"
     ]
    }
   ],
   "source": [
    "dfT1 = pd.read_csv('E1_T1.csv')             # use pandas to read the csv file\n",
    "dfT1 = dfT1.columns.to_list()               # extract the data from the dataframe and put it in a list\n",
    "fullSentence = ''                           # make a dummy string for the full sentance\n",
    "for val in dfT1:                            # for each entry (word) in the list\n",
    "    print(val)                              # print the word\n",
    "    fullSentence = fullSentence+val+' '     # add the word with a space\n",
    "print(fullSentence)                         # after the loop, print full sentance\n",
    "print(type(fullSentence))                   # print type of the full sentance"
   ]
  },
  {
   "cell_type": "markdown",
   "id": "5dce3cf6",
   "metadata": {},
   "source": [
    "### <span style=\"color: red\"> Task 2:</span> Now that you asked - Let's try another one. Create a dictionary with the keys \"List\", \"Tuple\", \"String\". For each key, assign a list, a tuple, and a string as their values, respectively. You can choose what you want to include in the values but each of them must contain more than five elements (for the string, it's more that five charactors). Finally, extract the third of your list, the second last of your tuple, and the whole string from your dictionary and save them into a .csv file.\n"
   ]
  },
  {
   "cell_type": "markdown",
   "id": "68034ce2",
   "metadata": {},
   "source": [
    "### <span style=\"color: blue\"> Solution:</span>"
   ]
  },
  {
   "cell_type": "code",
   "execution_count": 3,
   "id": "41e6e9dd",
   "metadata": {},
   "outputs": [],
   "source": [
    "dicT2 = {'List':['a','b','c','d','e','f','g','h','i','j','k','l','m','n','o','p'],\n",
    "         'Tuple':('a','b','c','d','e','f','g','h','i','j','k','l','m','n','o','p'),\n",
    "         'String':'abcdefghijklmnop'}                                               # create dictionary"
   ]
  },
  {
   "cell_type": "code",
   "execution_count": 4,
   "id": "e954f764",
   "metadata": {},
   "outputs": [],
   "source": [
    "strListEntry = dicT2['List'][2]     # store third value of list in strListEntry\n",
    "strTupleEntry = dicT2['Tuple'][-2]  # store second to last value of tuple in strTupleEntry\n",
    "strStringEntry = dicT2['String']    # store whole string"
   ]
  },
  {
   "cell_type": "code",
   "execution_count": 5,
   "id": "c2495690",
   "metadata": {},
   "outputs": [
    {
     "name": "stdout",
     "output_type": "stream",
     "text": [
      "c\n",
      "o\n",
      "abcdefghijklmnop\n"
     ]
    }
   ],
   "source": [
    "print(strListEntry+'\\n'+strTupleEntry+'\\n'+strStringEntry)"
   ]
  },
  {
   "cell_type": "code",
   "execution_count": 6,
   "id": "0c5bc0b2",
   "metadata": {},
   "outputs": [],
   "source": [
    "dfT2output = pd.DataFrame([], columns=[strListEntry,strTupleEntry,strStringEntry])  # add necessary variables to dataframe\n",
    "dfT2output.to_csv('T2output.csv', index=False)                                      # export dataframe to csv file"
   ]
  },
  {
   "cell_type": "markdown",
   "id": "a5cfa193",
   "metadata": {},
   "source": [
    "### <span style=\"color: red\"> Task 3:</span> Create a function that finds the largest number in a list. Don not use built-in function. Show you function by using a random number generator to create the inputs."
   ]
  },
  {
   "cell_type": "markdown",
   "id": "32bd35de",
   "metadata": {},
   "source": [
    "### <span style=\"color: blue\"> Solution:</span>"
   ]
  },
  {
   "cell_type": "code",
   "execution_count": 7,
   "id": "d41e2961",
   "metadata": {},
   "outputs": [],
   "source": [
    "def findLargestNum (lst):\n",
    "    #https://stackoverflow.com/questions/13252333/check-if-all-elements-of-a-list-are-of-the-same-type\n",
    "    if (all(isinstance(x, (int, float)) for x in lst) == False) :                   # if every element in list is not numeric\n",
    "        return 'This function only accepts lists with entriesof type int or float'  # return an error message\n",
    "    # once it is confirmed that all elements are numeric\n",
    "    largest = lst[0]                                                                # set the largest entry to be the first entry\n",
    "    for i in lst:                                                                   # for every entry in the list\n",
    "       if i > largest:                                                              # if the new entry is larger than the largest\n",
    "        largest = i                                                                 # update largest \n",
    "    return largest                                                                  # return largest number"
   ]
  },
  {
   "cell_type": "code",
   "execution_count": 8,
   "id": "bd464568",
   "metadata": {},
   "outputs": [
    {
     "name": "stdout",
     "output_type": "stream",
     "text": [
      "[53, 79, 23, 3, 41]\n",
      "79\n"
     ]
    }
   ],
   "source": [
    "lstRandom = random.sample(range(0, 100), 5)     # make a list of 5 numbers randomly chosen between 0 and 100\n",
    "print(lstRandom)                                # print list   \n",
    "largestNum = findLargestNum(lstRandom)          # test function\n",
    "print(largestNum)                               # print output"
   ]
  },
  {
   "cell_type": "code",
   "execution_count": 9,
   "metadata": {},
   "outputs": [
    {
     "data": {
      "text/plain": [
       "'This function only accepts lists with entriesof type int or float'"
      ]
     },
     "execution_count": 9,
     "metadata": {},
     "output_type": "execute_result"
    }
   ],
   "source": [
    "lstTest = [1,2,3,5.6,'x']                       # make list with non numeric number in it to test the error message\n",
    "findLargestNum(lstTest)"
   ]
  },
  {
   "cell_type": "markdown",
   "id": "f2eb8802",
   "metadata": {},
   "source": [
    "### <span style=\"color: red\"> Task 4:</span> Create a class named \"Alloys\". Initilize it with name and number of elements. In class \"Alloys\", write a method named \"info\", which prints \"\\<name> has \\<num_of_elements> elements\". For example, for Ti6Al4V, it will print \"Ti6Al4V has 3 elements\". Then create an inheritance calss of \"Alloys\" called \"HEAs\" (that's High Entropy Alloys). Create an instance from HEAs and print it's info. You can use CoCrFeMnNi, which has 5 elements."
   ]
  },
  {
   "cell_type": "markdown",
   "id": "ddf9378a",
   "metadata": {},
   "source": [
    "### <span style=\"color: blue\"> Solution:</span>"
   ]
  },
  {
   "cell_type": "code",
   "execution_count": 10,
   "id": "cdd7a0c9",
   "metadata": {},
   "outputs": [],
   "source": [
    "class Alloys:                                                                       # make class called alloys\n",
    "    def __init__(self, name, numOfElements):                                        # initialize with name and number of elements\n",
    "        if (isinstance(name,str) == False):                                         # if name is not of type string\n",
    "            raise ValueError('Name should be of type string')                       # kick error\n",
    "        \n",
    "        if (isinstance(numOfElements,int) == False):                                # if number of elements is not of type int\n",
    "            raise ValueError('Number of elements should be of type int')            # kick error\n",
    "        \n",
    "        self.name = name                                                            # initialize variables\n",
    "        self.numOfElements = numOfElements\n",
    "\n",
    "    def info(self):                                                                 # define method that displays info\n",
    "        return self.name + ' has ' + str(self.numOfElements) + ' elements'          # return info"
   ]
  },
  {
   "cell_type": "code",
   "execution_count": 11,
   "id": "b9e81c48",
   "metadata": {},
   "outputs": [
    {
     "name": "stdout",
     "output_type": "stream",
     "text": [
      "Ti6Al4V has 3 elements\n"
     ]
    }
   ],
   "source": [
    "alloyTi6Al4V = Alloys('Ti6Al4V',3)      # test function\n",
    "print(alloyTi6Al4V.info())"
   ]
  },
  {
   "cell_type": "code",
   "execution_count": 12,
   "id": "3e04b358",
   "metadata": {},
   "outputs": [
    {
     "ename": "ValueError",
     "evalue": "Number of elements should be of type int",
     "output_type": "error",
     "traceback": [
      "\u001b[0;31m---------------------------------------------------------------------------\u001b[0m",
      "\u001b[0;31mValueError\u001b[0m                                Traceback (most recent call last)",
      "\u001b[1;32m/Users/danielpersaud/Documents/MASc/classes/mse1065/lab1/assignment1/PersaudD_E1.ipynb Cell 22\u001b[0m in \u001b[0;36m<cell line: 1>\u001b[0;34m()\u001b[0m\n\u001b[0;32m----> <a href='vscode-notebook-cell:/Users/danielpersaud/Documents/MASc/classes/mse1065/lab1/assignment1/PersaudD_E1.ipynb#X30sZmlsZQ%3D%3D?line=0'>1</a>\u001b[0m alloyTest1 \u001b[39m=\u001b[39m Alloys(\u001b[39m'\u001b[39;49m\u001b[39mTi6Al4V\u001b[39;49m\u001b[39m'\u001b[39;49m,\u001b[39m3.4\u001b[39;49m)\n",
      "\u001b[1;32m/Users/danielpersaud/Documents/MASc/classes/mse1065/lab1/assignment1/PersaudD_E1.ipynb Cell 22\u001b[0m in \u001b[0;36mAlloys.__init__\u001b[0;34m(self, name, numOfElements)\u001b[0m\n\u001b[1;32m      <a href='vscode-notebook-cell:/Users/danielpersaud/Documents/MASc/classes/mse1065/lab1/assignment1/PersaudD_E1.ipynb#X30sZmlsZQ%3D%3D?line=3'>4</a>\u001b[0m     \u001b[39mraise\u001b[39;00m \u001b[39mValueError\u001b[39;00m(\u001b[39m'\u001b[39m\u001b[39mName should be of type string\u001b[39m\u001b[39m'\u001b[39m)                       \u001b[39m# kick error\u001b[39;00m\n\u001b[1;32m      <a href='vscode-notebook-cell:/Users/danielpersaud/Documents/MASc/classes/mse1065/lab1/assignment1/PersaudD_E1.ipynb#X30sZmlsZQ%3D%3D?line=5'>6</a>\u001b[0m \u001b[39mif\u001b[39;00m (\u001b[39misinstance\u001b[39m(numOfElements,\u001b[39mint\u001b[39m) \u001b[39m==\u001b[39m \u001b[39mFalse\u001b[39;00m):                                \u001b[39m# if number of elements is not of type int\u001b[39;00m\n\u001b[0;32m----> <a href='vscode-notebook-cell:/Users/danielpersaud/Documents/MASc/classes/mse1065/lab1/assignment1/PersaudD_E1.ipynb#X30sZmlsZQ%3D%3D?line=6'>7</a>\u001b[0m     \u001b[39mraise\u001b[39;00m \u001b[39mValueError\u001b[39;00m(\u001b[39m'\u001b[39m\u001b[39mNumber of elements should be of type int\u001b[39m\u001b[39m'\u001b[39m)            \u001b[39m# kick error\u001b[39;00m\n\u001b[1;32m      <a href='vscode-notebook-cell:/Users/danielpersaud/Documents/MASc/classes/mse1065/lab1/assignment1/PersaudD_E1.ipynb#X30sZmlsZQ%3D%3D?line=8'>9</a>\u001b[0m \u001b[39mself\u001b[39m\u001b[39m.\u001b[39mname \u001b[39m=\u001b[39m name                                                            \u001b[39m# initialize variables\u001b[39;00m\n\u001b[1;32m     <a href='vscode-notebook-cell:/Users/danielpersaud/Documents/MASc/classes/mse1065/lab1/assignment1/PersaudD_E1.ipynb#X30sZmlsZQ%3D%3D?line=9'>10</a>\u001b[0m \u001b[39mself\u001b[39m\u001b[39m.\u001b[39mnumOfElements \u001b[39m=\u001b[39m numOfElements\n",
      "\u001b[0;31mValueError\u001b[0m: Number of elements should be of type int"
     ]
    }
   ],
   "source": [
    "alloyTest1 = Alloys('Ti6Al4V',3.4)      #test that number of elements error detection work "
   ]
  },
  {
   "cell_type": "code",
   "execution_count": 13,
   "id": "aace70b5",
   "metadata": {},
   "outputs": [
    {
     "ename": "ValueError",
     "evalue": "Name should be of type string",
     "output_type": "error",
     "traceback": [
      "\u001b[0;31m---------------------------------------------------------------------------\u001b[0m",
      "\u001b[0;31mValueError\u001b[0m                                Traceback (most recent call last)",
      "\u001b[1;32m/Users/danielpersaud/Documents/MASc/classes/mse1065/lab1/assignment1/PersaudD_E1.ipynb Cell 23\u001b[0m in \u001b[0;36m<cell line: 1>\u001b[0;34m()\u001b[0m\n\u001b[0;32m----> <a href='vscode-notebook-cell:/Users/danielpersaud/Documents/MASc/classes/mse1065/lab1/assignment1/PersaudD_E1.ipynb#X31sZmlsZQ%3D%3D?line=0'>1</a>\u001b[0m alloyTest2 \u001b[39m=\u001b[39m Alloys(\u001b[39m5\u001b[39;49m,\u001b[39m3\u001b[39;49m)\n",
      "\u001b[1;32m/Users/danielpersaud/Documents/MASc/classes/mse1065/lab1/assignment1/PersaudD_E1.ipynb Cell 23\u001b[0m in \u001b[0;36mAlloys.__init__\u001b[0;34m(self, name, numOfElements)\u001b[0m\n\u001b[1;32m      <a href='vscode-notebook-cell:/Users/danielpersaud/Documents/MASc/classes/mse1065/lab1/assignment1/PersaudD_E1.ipynb#X31sZmlsZQ%3D%3D?line=1'>2</a>\u001b[0m \u001b[39mdef\u001b[39;00m \u001b[39m__init__\u001b[39m(\u001b[39mself\u001b[39m, name, numOfElements):                                        \u001b[39m# initialize with name and number of elements\u001b[39;00m\n\u001b[1;32m      <a href='vscode-notebook-cell:/Users/danielpersaud/Documents/MASc/classes/mse1065/lab1/assignment1/PersaudD_E1.ipynb#X31sZmlsZQ%3D%3D?line=2'>3</a>\u001b[0m     \u001b[39mif\u001b[39;00m (\u001b[39misinstance\u001b[39m(name,\u001b[39mstr\u001b[39m) \u001b[39m==\u001b[39m \u001b[39mFalse\u001b[39;00m):                                         \u001b[39m# if name is not of type string\u001b[39;00m\n\u001b[0;32m----> <a href='vscode-notebook-cell:/Users/danielpersaud/Documents/MASc/classes/mse1065/lab1/assignment1/PersaudD_E1.ipynb#X31sZmlsZQ%3D%3D?line=3'>4</a>\u001b[0m         \u001b[39mraise\u001b[39;00m \u001b[39mValueError\u001b[39;00m(\u001b[39m'\u001b[39m\u001b[39mName should be of type string\u001b[39m\u001b[39m'\u001b[39m)                       \u001b[39m# kick error\u001b[39;00m\n\u001b[1;32m      <a href='vscode-notebook-cell:/Users/danielpersaud/Documents/MASc/classes/mse1065/lab1/assignment1/PersaudD_E1.ipynb#X31sZmlsZQ%3D%3D?line=5'>6</a>\u001b[0m     \u001b[39mif\u001b[39;00m (\u001b[39misinstance\u001b[39m(numOfElements,\u001b[39mint\u001b[39m) \u001b[39m==\u001b[39m \u001b[39mFalse\u001b[39;00m):                                \u001b[39m# if number of elements is not of type int\u001b[39;00m\n\u001b[1;32m      <a href='vscode-notebook-cell:/Users/danielpersaud/Documents/MASc/classes/mse1065/lab1/assignment1/PersaudD_E1.ipynb#X31sZmlsZQ%3D%3D?line=6'>7</a>\u001b[0m         \u001b[39mraise\u001b[39;00m \u001b[39mValueError\u001b[39;00m(\u001b[39m'\u001b[39m\u001b[39mNumber of elements should be of type int\u001b[39m\u001b[39m'\u001b[39m)            \u001b[39m# kick error\u001b[39;00m\n",
      "\u001b[0;31mValueError\u001b[0m: Name should be of type string"
     ]
    }
   ],
   "source": [
    "alloyTest2 = Alloys(5,3)      #test that name error detection work "
   ]
  },
  {
   "cell_type": "code",
   "execution_count": 14,
   "id": "ca961e3e",
   "metadata": {},
   "outputs": [],
   "source": [
    "class HEAs(Alloys):                             # make HEAs class which inherets alloys\n",
    "    def __init__(self, name, numOfElements):\n",
    "        super().__init__(name, numOfElements)"
   ]
  },
  {
   "cell_type": "code",
   "execution_count": 15,
   "id": "eba04e9b",
   "metadata": {},
   "outputs": [
    {
     "name": "stdout",
     "output_type": "stream",
     "text": [
      "CoCrFeMnNi has 5 elements\n"
     ]
    }
   ],
   "source": [
    "heaCoCrFeMnNi = HEAs('CoCrFeMnNi',5)            # test that HEAs class works\n",
    "print(heaCoCrFeMnNi.info())"
   ]
  },
  {
   "cell_type": "markdown",
   "id": "73ef4f1c",
   "metadata": {},
   "source": [
    "### <span style=\"color: red\"> Task 5:</span> Write a function to check if an alloy’s composition is normalized. If it is not, your function should normalize it and return the normalized alloy name. E.g., if the input is $A_{1}B_{2}$, your function should output A0.33B0.67. To simplify the problem, if an element's composition is 1, include that in your input. E.g., if the alloy is $Ti_{6}Al_{4}V$,  you should use Ti6Al4V1 as the input.\n",
    "Bonus question: your function can run a check on the input name to check if there is any “not elements” in the name. Hint: you can try the Mendeleev python library for a complete list of elements."
   ]
  },
  {
   "cell_type": "markdown",
   "id": "bb11e0c8",
   "metadata": {},
   "source": [
    "### <span style=\"color: blue\"> Solution:</span>"
   ]
  },
  {
   "cell_type": "code",
   "execution_count": 16,
   "id": "7e153d0e",
   "metadata": {},
   "outputs": [],
   "source": [
    "def normalizeComposition (formula):                                                                         # define function to normalzie composition\n",
    "    \n",
    "    if (isinstance(formula,str) == False):                                                                  # if name is not of type string\n",
    "        raise ValueError('Formula should be of type string')                                                # kick error\n",
    "    \n",
    "    lstIndexOfUpper = []                                                                                    # make an empty list to hold the indices of the uppercase characters\n",
    "    for i in range(len(formula)):                                                                           # for every character in the string\n",
    "        if formula[i].isupper():                                                                            # if the character is uppercase\n",
    "            lstIndexOfUpper.append(i)                                                                       # add character index to list \n",
    "    \n",
    "    lstElements = []                                                                                        # make an empty list to hold the full element symbols\n",
    "    j = 0                                                                                                   # counter at 0 \n",
    "    while (j < len(lstIndexOfUpper)):                                                                       # while the counter is less than the number of entries in the list of uppercase entries (which means while the counter is less than the number of symbols)\n",
    "        if (j == len(lstIndexOfUpper)-1):                                                                   # if we are are looking at the last entry\n",
    "            lstElements.append(formula[lstIndexOfUpper[j]:])                                                # splice the formula from the index of the beginning (capital letter) of the last entry in the formumla to the end of the string\n",
    "        else:                                                                                               # else, this isnt the last entry\n",
    "            lstElements.append(formula[lstIndexOfUpper[j]:lstIndexOfUpper[j+1]])                            # splice the foumula from the index of the begining of the entry to the begining of the next entry\n",
    "        j+=1                                                                                                # loop\n",
    "    \n",
    "    dicElements = {}                                                                                        # make an empty dictionary to hold the symbol of the element as the key and the number of that element as the value\n",
    "    for element in lstElements:                                                                             # for each entry (element) in the list of elements\n",
    "        tempNumberIndex = re.search(r'\\d',element)                                                          # search for the index of the number\n",
    "        if tempNumberIndex:                                                                                 # if there is a number\n",
    "            dicElements[element[:tempNumberIndex.start()]] = float(element[tempNumberIndex.start():])       # the key is from the begining of the element entry to the index of the number and the value is from the index of the number to the end\n",
    "        else:                                                                                               # if there is no number\n",
    "            dicElements[element] = 1.0                                                                      # the key is the element and the value is 1.0\n",
    "    \n",
    "    ptable = fetch_table('elements')                                                                        # fetch the elements in the periodic table from the mendeleev library\n",
    "    lstPTableElements = ptable['symbol'].to_list()                                                          # put the element symbols in to a list\n",
    "\n",
    "    for element in dicElements:                                                                             # for each symbol in the dictionary \n",
    "        if element not in lstPTableElements:                                                                # if that the symbol is not in the list of valid elements\n",
    "            return 'invalid element detected'                                                               # return an error\n",
    "\n",
    "    dicElementsNormalized = {}                                                                              # make a new dictionary to hold the normalized data\n",
    "    if (sum(dicElements.values())==1):                                                                      # if the data is already normalized\n",
    "        return 'formula is normalized'                                                                      # return note\n",
    "    else:                                                                                                   # if the data is not normalized\n",
    "        for element in dicElements:                                                                         # for each entry in the un-normalized dictionary\n",
    "            dicElementsNormalized[element] = round((dicElements[element] / sum(dicElements.values())), 2)   # add entry in new dictionary with normalized information\n",
    "        return dicElementsNormalized                                                                        # return normalized dictionary\n"
   ]
  },
  {
   "cell_type": "code",
   "execution_count": 17,
   "id": "14636141",
   "metadata": {},
   "outputs": [
    {
     "data": {
      "text/plain": [
       "{'Ti': 0.55, 'Al': 0.36, 'V': 0.09}"
      ]
     },
     "execution_count": 17,
     "metadata": {},
     "output_type": "execute_result"
    }
   ],
   "source": [
    "normalizeComposition('Ti6Al4V')     # test that it is working"
   ]
  },
  {
   "cell_type": "code",
   "execution_count": 18,
   "id": "a6f2c409",
   "metadata": {},
   "outputs": [
    {
     "data": {
      "text/plain": [
       "'formula is normalized'"
      ]
     },
     "execution_count": 18,
     "metadata": {},
     "output_type": "execute_result"
    }
   ],
   "source": [
    "normalizeComposition('Ti0.55Al0.36V0.09')"
   ]
  },
  {
   "cell_type": "code",
   "execution_count": 19,
   "id": "df8a82c9",
   "metadata": {},
   "outputs": [
    {
     "ename": "ValueError",
     "evalue": "Formula should be of type string",
     "output_type": "error",
     "traceback": [
      "\u001b[0;31m---------------------------------------------------------------------------\u001b[0m",
      "\u001b[0;31mValueError\u001b[0m                                Traceback (most recent call last)",
      "\u001b[1;32m/Users/danielpersaud/Documents/MASc/classes/mse1065/lab1/assignment1/PersaudD_E1.ipynb Cell 31\u001b[0m in \u001b[0;36m<cell line: 1>\u001b[0;34m()\u001b[0m\n\u001b[0;32m----> <a href='vscode-notebook-cell:/Users/danielpersaud/Documents/MASc/classes/mse1065/lab1/assignment1/PersaudD_E1.ipynb#X42sZmlsZQ%3D%3D?line=0'>1</a>\u001b[0m normalizeComposition(\u001b[39m5\u001b[39;49m)\n",
      "\u001b[1;32m/Users/danielpersaud/Documents/MASc/classes/mse1065/lab1/assignment1/PersaudD_E1.ipynb Cell 31\u001b[0m in \u001b[0;36mnormalizeComposition\u001b[0;34m(formula)\u001b[0m\n\u001b[1;32m      <a href='vscode-notebook-cell:/Users/danielpersaud/Documents/MASc/classes/mse1065/lab1/assignment1/PersaudD_E1.ipynb#X42sZmlsZQ%3D%3D?line=0'>1</a>\u001b[0m \u001b[39mdef\u001b[39;00m \u001b[39mnormalizeComposition\u001b[39m (formula):                                                                         \u001b[39m# define function to normalzie composition\u001b[39;00m\n\u001b[1;32m      <a href='vscode-notebook-cell:/Users/danielpersaud/Documents/MASc/classes/mse1065/lab1/assignment1/PersaudD_E1.ipynb#X42sZmlsZQ%3D%3D?line=2'>3</a>\u001b[0m     \u001b[39mif\u001b[39;00m (\u001b[39misinstance\u001b[39m(formula,\u001b[39mstr\u001b[39m) \u001b[39m==\u001b[39m \u001b[39mFalse\u001b[39;00m):                                                                  \u001b[39m# if name is not of type string\u001b[39;00m\n\u001b[0;32m----> <a href='vscode-notebook-cell:/Users/danielpersaud/Documents/MASc/classes/mse1065/lab1/assignment1/PersaudD_E1.ipynb#X42sZmlsZQ%3D%3D?line=3'>4</a>\u001b[0m         \u001b[39mraise\u001b[39;00m \u001b[39mValueError\u001b[39;00m(\u001b[39m'\u001b[39m\u001b[39mFormula should be of type string\u001b[39m\u001b[39m'\u001b[39m)                                                \u001b[39m# kick error\u001b[39;00m\n\u001b[1;32m      <a href='vscode-notebook-cell:/Users/danielpersaud/Documents/MASc/classes/mse1065/lab1/assignment1/PersaudD_E1.ipynb#X42sZmlsZQ%3D%3D?line=5'>6</a>\u001b[0m     lstIndexOfUpper \u001b[39m=\u001b[39m []                                                                                    \u001b[39m# make an empty list to hold the indices of the uppercase characters\u001b[39;00m\n\u001b[1;32m      <a href='vscode-notebook-cell:/Users/danielpersaud/Documents/MASc/classes/mse1065/lab1/assignment1/PersaudD_E1.ipynb#X42sZmlsZQ%3D%3D?line=6'>7</a>\u001b[0m     \u001b[39mfor\u001b[39;00m i \u001b[39min\u001b[39;00m \u001b[39mrange\u001b[39m(\u001b[39mlen\u001b[39m(formula)):                                                                           \u001b[39m# for every character in the string\u001b[39;00m\n",
      "\u001b[0;31mValueError\u001b[0m: Formula should be of type string"
     ]
    }
   ],
   "source": [
    "normalizeComposition(5)"
   ]
  },
  {
   "cell_type": "code",
   "execution_count": 20,
   "id": "e1d2a28e",
   "metadata": {},
   "outputs": [
    {
     "data": {
      "text/plain": [
       "'invalid element detected'"
      ]
     },
     "execution_count": 20,
     "metadata": {},
     "output_type": "execute_result"
    }
   ],
   "source": [
    "normalizeComposition('AB2')"
   ]
  }
 ],
 "metadata": {
  "kernelspec": {
   "display_name": "Python 3.9.12 ('initStable')",
   "language": "python",
   "name": "python3"
  },
  "language_info": {
   "codemirror_mode": {
    "name": "ipython",
    "version": 3
   },
   "file_extension": ".py",
   "mimetype": "text/x-python",
   "name": "python",
   "nbconvert_exporter": "python",
   "pygments_lexer": "ipython3",
   "version": "3.9.12"
  },
  "vscode": {
   "interpreter": {
    "hash": "4e324665621a6e561cc1b863ea22c3639e915182fa9af9bad65c46c843f57e3d"
   }
  }
 },
 "nbformat": 4,
 "nbformat_minor": 5
}
