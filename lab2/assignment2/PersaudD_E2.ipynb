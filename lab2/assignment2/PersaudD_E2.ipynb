{
 "cells": [
  {
   "cell_type": "markdown",
   "id": "8d6e1bdf",
   "metadata": {},
   "source": [
    "### <span style=\"color: red\"> Task 1:</span> Some errors are presented in the code below. Can you identify and corret them?"
   ]
  },
  {
   "cell_type": "code",
   "execution_count": null,
   "id": "f7ff1f43",
   "metadata": {},
   "outputs": [],
   "source": [
    "import os\n",
    "import csv\n",
    "\n",
    "current_dir = os.getcwd()\n",
    "filename = current_dir+'E1_T1.csv'\n",
    "with open(filename, 'r', newline=') as f:\n",
    "    csv_file = csv.reader(f)\n",
    "    data = list(csv_file)\n",
    "sentence=''\n",
    "for word in data:\n",
    "    sentence = sentence + ' '+ word\n",
    "print(sentence)\n",
    "print(type(sentence))"
   ]
  },
  {
   "cell_type": "markdown",
   "id": "b74afc9e",
   "metadata": {},
   "source": [
    "### <span style=\"color: red\"> Task 2:</span> Who has the most runner-up finishes in the histroy of NHL? Create a table with the teams and their runner-up finishes. The table must contain the the following columns:\n",
    "\n",
    "-Team\n",
    "\n",
    "-Total number of runner-up finishes\n",
    "\n",
    "-Years [list of the years they finished as a runner-up]\n",
    "\n",
    "You have to use Jupyter for the practice and produce a notebook with good readability."
   ]
  },
  {
   "cell_type": "markdown",
   "id": "5e4f2d63",
   "metadata": {},
   "source": [
    "### <span style=\"color: blue\"> Solution:</span>"
   ]
  },
  {
   "cell_type": "code",
   "execution_count": null,
   "id": "8efa3004",
   "metadata": {},
   "outputs": [],
   "source": []
  },
  {
   "cell_type": "markdown",
   "id": "9aa529af",
   "metadata": {},
   "source": [
    "### <span style=\"color: red\"> Task 3:</span> With the help of matminer, 1. Retrive the 'steel_strength' dataset into a dataframe and clean your dataset in needed; 2. Featurize the compositions of the materials; and 3. Perform correlation analysis and drop feature(s) with an efficient greater than abs(0.8) from your dataframe."
   ]
  },
  {
   "cell_type": "markdown",
   "id": "165ceffe",
   "metadata": {},
   "source": [
    "### <span style=\"color: blue\"> Solution:</span>"
   ]
  },
  {
   "cell_type": "code",
   "execution_count": 71,
   "id": "a6076792",
   "metadata": {},
   "outputs": [],
   "source": [
    "import matminer\n",
    "from matminer.datasets import load_dataset\n",
    "#matminer.datasets.get_available_datasets() #you can check what datasets are available with this line\n"
   ]
  },
  {
   "cell_type": "markdown",
   "id": "cc131a0d",
   "metadata": {},
   "source": [
    "### <span style=\"color: red\"> Task 4:</span> Setup a private Github repository for this course. Name it MSE1065_\\<YourName>_\\<YourStudentID>. You will be using this repo for homework submission and course project version control. A good place to get started is [here](https://docs.github.com/en/get-started/quickstart/hello-world). You can choose to use the GitHub via the terminal (recommanded), the [GitHub desktop app](https://desktop.github.com/), or the online GitHub platform. After setting up your repo, make sure to share your repo with [Jae](https://github.com/jae3goals) and [Xiao](github.com/xshang93) by adding us as collobrators."
   ]
  },
  {
   "cell_type": "code",
   "execution_count": null,
   "id": "222d9845",
   "metadata": {},
   "outputs": [],
   "source": []
  }
 ],
 "metadata": {
  "kernelspec": {
   "display_name": "Python 3 (ipykernel)",
   "language": "python",
   "name": "python3"
  },
  "language_info": {
   "codemirror_mode": {
    "name": "ipython",
    "version": 3
   },
   "file_extension": ".py",
   "mimetype": "text/x-python",
   "name": "python",
   "nbconvert_exporter": "python",
   "pygments_lexer": "ipython3",
   "version": "3.9.7"
  }
 },
 "nbformat": 4,
 "nbformat_minor": 5
}
